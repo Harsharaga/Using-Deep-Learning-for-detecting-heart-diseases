{
 "cells": [
  {
   "cell_type": "markdown",
   "id": "4fcd7caf",
   "metadata": {},
   "source": [
    "1. Importing all the necessary libraries"
   ]
  },
  {
   "cell_type": "code",
   "execution_count": 1,
   "id": "83abc113",
   "metadata": {},
   "outputs": [
    {
     "name": "stdout",
     "output_type": "stream",
     "text": [
      "WARNING:tensorflow:From C:\\Users\\roops\\anaconda3\\lib\\site-packages\\keras\\src\\losses.py:2976: The name tf.losses.sparse_softmax_cross_entropy is deprecated. Please use tf.compat.v1.losses.sparse_softmax_cross_entropy instead.\n",
      "\n"
     ]
    }
   ],
   "source": [
    "import sklearn\n",
    "import matplotlib\n",
    "import keras\n",
    "import sys\n",
    "import matplotlib.pyplot as plt\n",
    "from pandas.plotting import scatter_matrix\n",
    "import pandas as pd\n",
    "import numpy as np"
   ]
  },
  {
   "cell_type": "markdown",
   "id": "3a0808f4",
   "metadata": {},
   "source": [
    "2. Loading the data from the direcory"
   ]
  },
  {
   "cell_type": "code",
   "execution_count": 2,
   "id": "bcdbc591",
   "metadata": {},
   "outputs": [],
   "source": [
    "dataset=pd.read_csv(r\"C:\\Users\\roops\\OneDrive\\Desktop\\Balu Files\\Identifying Heart Diseases using Deep Learning\\dataset.csv\")"
   ]
  },
  {
   "cell_type": "markdown",
   "id": "4ec19e69",
   "metadata": {},
   "source": [
    "3. Data pre-processing"
   ]
  },
  {
   "cell_type": "code",
   "execution_count": 3,
   "id": "d574a2a1",
   "metadata": {},
   "outputs": [
    {
     "name": "stdout",
     "output_type": "stream",
     "text": [
      "      male  age  education  currentSmoker  cigsPerDay  BPMeds  \\\n",
      "0        1   39        4.0              0         0.0     0.0   \n",
      "1        0   46        2.0              0         0.0     0.0   \n",
      "2        1   48        1.0              1        20.0     0.0   \n",
      "3        0   61        3.0              1        30.0     0.0   \n",
      "4        0   46        3.0              1        23.0     0.0   \n",
      "...    ...  ...        ...            ...         ...     ...   \n",
      "4235     0   48        2.0              1        20.0     NaN   \n",
      "4236     0   44        1.0              1        15.0     0.0   \n",
      "4237     0   52        2.0              0         0.0     0.0   \n",
      "4238     1   40        3.0              0         0.0     0.0   \n",
      "4239     0   39        3.0              1        30.0     0.0   \n",
      "\n",
      "      prevalentStroke  prevalentHyp  diabetes  totChol  sysBP  diaBP    BMI  \\\n",
      "0                   0             0         0    195.0  106.0   70.0  26.97   \n",
      "1                   0             0         0    250.0  121.0   81.0  28.73   \n",
      "2                   0             0         0    245.0  127.5   80.0  25.34   \n",
      "3                   0             1         0    225.0  150.0   95.0  28.58   \n",
      "4                   0             0         0    285.0  130.0   84.0  23.10   \n",
      "...               ...           ...       ...      ...    ...    ...    ...   \n",
      "4235                0             0         0    248.0  131.0   72.0  22.00   \n",
      "4236                0             0         0    210.0  126.5   87.0  19.16   \n",
      "4237                0             0         0    269.0  133.5   83.0  21.47   \n",
      "4238                0             1         0    185.0  141.0   98.0  25.60   \n",
      "4239                0             0         0    196.0  133.0   86.0  20.91   \n",
      "\n",
      "      heartRate  glucose  Risk  \n",
      "0          80.0     77.0     0  \n",
      "1          95.0     76.0     0  \n",
      "2          75.0     70.0     0  \n",
      "3          65.0    103.0     1  \n",
      "4          85.0     85.0     0  \n",
      "...         ...      ...   ...  \n",
      "4235       84.0     86.0     0  \n",
      "4236       86.0      NaN     0  \n",
      "4237       80.0    107.0     0  \n",
      "4238       67.0     72.0     0  \n",
      "4239       85.0     80.0     0  \n",
      "\n",
      "[4240 rows x 16 columns]\n"
     ]
    }
   ],
   "source": [
    "data=dataset[-dataset.isin([\"?\"])]\n",
    "print(data)"
   ]
  },
  {
   "cell_type": "code",
   "execution_count": 4,
   "id": "2e778c0a",
   "metadata": {},
   "outputs": [],
   "source": [
    "data=data.dropna(axis=0)"
   ]
  },
  {
   "cell_type": "code",
   "execution_count": 5,
   "id": "198b8239",
   "metadata": {},
   "outputs": [
    {
     "name": "stdout",
     "output_type": "stream",
     "text": [
      "      male  age  education  currentSmoker  cigsPerDay  BPMeds  \\\n",
      "0        1   39        4.0              0         0.0     0.0   \n",
      "1        0   46        2.0              0         0.0     0.0   \n",
      "2        1   48        1.0              1        20.0     0.0   \n",
      "3        0   61        3.0              1        30.0     0.0   \n",
      "4        0   46        3.0              1        23.0     0.0   \n",
      "...    ...  ...        ...            ...         ...     ...   \n",
      "4233     1   50        1.0              1         1.0     0.0   \n",
      "4234     1   51        3.0              1        43.0     0.0   \n",
      "4237     0   52        2.0              0         0.0     0.0   \n",
      "4238     1   40        3.0              0         0.0     0.0   \n",
      "4239     0   39        3.0              1        30.0     0.0   \n",
      "\n",
      "      prevalentStroke  prevalentHyp  diabetes  totChol  sysBP  diaBP    BMI  \\\n",
      "0                   0             0         0    195.0  106.0   70.0  26.97   \n",
      "1                   0             0         0    250.0  121.0   81.0  28.73   \n",
      "2                   0             0         0    245.0  127.5   80.0  25.34   \n",
      "3                   0             1         0    225.0  150.0   95.0  28.58   \n",
      "4                   0             0         0    285.0  130.0   84.0  23.10   \n",
      "...               ...           ...       ...      ...    ...    ...    ...   \n",
      "4233                0             1         0    313.0  179.0   92.0  25.97   \n",
      "4234                0             0         0    207.0  126.5   80.0  19.71   \n",
      "4237                0             0         0    269.0  133.5   83.0  21.47   \n",
      "4238                0             1         0    185.0  141.0   98.0  25.60   \n",
      "4239                0             0         0    196.0  133.0   86.0  20.91   \n",
      "\n",
      "      heartRate  glucose  Risk  \n",
      "0          80.0     77.0     0  \n",
      "1          95.0     76.0     0  \n",
      "2          75.0     70.0     0  \n",
      "3          65.0    103.0     1  \n",
      "4          85.0     85.0     0  \n",
      "...         ...      ...   ...  \n",
      "4233       66.0     86.0     1  \n",
      "4234       65.0     68.0     0  \n",
      "4237       80.0    107.0     0  \n",
      "4238       67.0     72.0     0  \n",
      "4239       85.0     80.0     0  \n",
      "\n",
      "[3658 rows x 16 columns]\n"
     ]
    }
   ],
   "source": [
    "print(data)"
   ]
  },
  {
   "cell_type": "code",
   "execution_count": 6,
   "id": "82809e2c",
   "metadata": {},
   "outputs": [
    {
     "name": "stdout",
     "output_type": "stream",
     "text": [
      "male                 int64\n",
      "age                  int64\n",
      "education          float64\n",
      "currentSmoker        int64\n",
      "cigsPerDay         float64\n",
      "BPMeds             float64\n",
      "prevalentStroke      int64\n",
      "prevalentHyp         int64\n",
      "diabetes             int64\n",
      "totChol            float64\n",
      "sysBP              float64\n",
      "diaBP              float64\n",
      "BMI                float64\n",
      "heartRate          float64\n",
      "glucose            float64\n",
      "Risk                 int64\n",
      "dtype: object\n"
     ]
    }
   ],
   "source": [
    "data=data.apply(pd.to_numeric)\n",
    "print(data.dtypes)"
   ]
  },
  {
   "cell_type": "code",
   "execution_count": 7,
   "id": "28dcd15e",
   "metadata": {},
   "outputs": [
    {
     "data": {
      "text/plain": [
       "<bound method NDFrame.describe of       male  age  education  currentSmoker  cigsPerDay  BPMeds  \\\n",
       "0        1   39        4.0              0         0.0     0.0   \n",
       "1        0   46        2.0              0         0.0     0.0   \n",
       "2        1   48        1.0              1        20.0     0.0   \n",
       "3        0   61        3.0              1        30.0     0.0   \n",
       "4        0   46        3.0              1        23.0     0.0   \n",
       "...    ...  ...        ...            ...         ...     ...   \n",
       "4233     1   50        1.0              1         1.0     0.0   \n",
       "4234     1   51        3.0              1        43.0     0.0   \n",
       "4237     0   52        2.0              0         0.0     0.0   \n",
       "4238     1   40        3.0              0         0.0     0.0   \n",
       "4239     0   39        3.0              1        30.0     0.0   \n",
       "\n",
       "      prevalentStroke  prevalentHyp  diabetes  totChol  sysBP  diaBP    BMI  \\\n",
       "0                   0             0         0    195.0  106.0   70.0  26.97   \n",
       "1                   0             0         0    250.0  121.0   81.0  28.73   \n",
       "2                   0             0         0    245.0  127.5   80.0  25.34   \n",
       "3                   0             1         0    225.0  150.0   95.0  28.58   \n",
       "4                   0             0         0    285.0  130.0   84.0  23.10   \n",
       "...               ...           ...       ...      ...    ...    ...    ...   \n",
       "4233                0             1         0    313.0  179.0   92.0  25.97   \n",
       "4234                0             0         0    207.0  126.5   80.0  19.71   \n",
       "4237                0             0         0    269.0  133.5   83.0  21.47   \n",
       "4238                0             1         0    185.0  141.0   98.0  25.60   \n",
       "4239                0             0         0    196.0  133.0   86.0  20.91   \n",
       "\n",
       "      heartRate  glucose  Risk  \n",
       "0          80.0     77.0     0  \n",
       "1          95.0     76.0     0  \n",
       "2          75.0     70.0     0  \n",
       "3          65.0    103.0     1  \n",
       "4          85.0     85.0     0  \n",
       "...         ...      ...   ...  \n",
       "4233       66.0     86.0     1  \n",
       "4234       65.0     68.0     0  \n",
       "4237       80.0    107.0     0  \n",
       "4238       67.0     72.0     0  \n",
       "4239       85.0     80.0     0  \n",
       "\n",
       "[3658 rows x 16 columns]>"
      ]
     },
     "execution_count": 7,
     "metadata": {},
     "output_type": "execute_result"
    }
   ],
   "source": [
    "data.describe"
   ]
  },
  {
   "cell_type": "markdown",
   "id": "80c16550",
   "metadata": {},
   "source": [
    "4. Plot a histogram for each variable"
   ]
  },
  {
   "cell_type": "code",
   "execution_count": 8,
   "id": "db1c3f78",
   "metadata": {},
   "outputs": [
    {
     "data": {
      "image/png": "[encoded data removed]",
      "text/plain": [
       "<Figure size 1500x1500 with 16 Axes>"
      ]
     },
     "metadata": {},
     "output_type": "display_data"
    }
   ],
   "source": [
    "data.hist(figsize=(15,15))\n",
    "plt.show()"
   ]
  },
  {
   "cell_type": "markdown",
   "id": "a8263b8c",
   "metadata": {},
   "source": [
    "5. Splitting testing and training data"
   ]
  },
  {
   "cell_type": "code",
   "execution_count": 9,
   "id": "181d32fd",
   "metadata": {},
   "outputs": [
    {
     "name": "stderr",
     "output_type": "stream",
     "text": [
      "C:\\Users\\roops\\AppData\\Local\\Temp\\ipykernel_10564\\2900593545.py:3: FutureWarning: In a future version of pandas all arguments of DataFrame.drop except for the argument 'labels' will be keyword-only.\n",
      "  X = np.array(data.drop(['Risk'], 1))\n"
     ]
    }
   ],
   "source": [
    "from sklearn import model_selection\n",
    "\n",
    "X = np.array(data.drop(['Risk'], 1))\n",
    "y = np.array(data['Risk'])\n",
    "\n",
    "X_train, X_test, y_train, y_test = model_selection.train_test_split(X, y, test_size = 0.2)"
   ]
  },
  {
   "cell_type": "code",
   "execution_count": 10,
   "id": "24128c78",
   "metadata": {},
   "outputs": [],
   "source": [
    "from tensorflow.keras.utils import to_categorical\n",
    "\n",
    "Y_train = to_categorical(y_train, num_classes=None)\n",
    "Y_test = to_categorical(y_test, num_classes=None)\n"
   ]
  },
  {
   "cell_type": "code",
   "execution_count": 11,
   "id": "46320124",
   "metadata": {},
   "outputs": [
    {
     "name": "stdout",
     "output_type": "stream",
     "text": [
      "(2926, 2)\n",
      "[[1. 0.]\n",
      " [1. 0.]\n",
      " [1. 0.]\n",
      " ...\n",
      " [1. 0.]\n",
      " [0. 1.]\n",
      " [1. 0.]]\n"
     ]
    }
   ],
   "source": [
    "print (Y_train.shape)\n",
    "print (Y_train)"
   ]
  },
  {
   "cell_type": "markdown",
   "id": "3e89ee51",
   "metadata": {},
   "source": [
    "6. Building a Neural Network"
   ]
  },
  {
   "cell_type": "code",
   "execution_count": 12,
   "id": "531a86ae",
   "metadata": {},
   "outputs": [],
   "source": [
    "from tensorflow.keras.models import Sequential\n",
    "from tensorflow.keras.layers import Dense, BatchNormalization, Dropout\n",
    "from tensorflow.keras.optimizers import Adam\n",
    "\n",
    "def create_advanced_model():\n",
    "    model = Sequential()\n",
    "\n",
    "    model.add(Dense(64, input_dim=15, kernel_initializer='he_uniform', activation='relu'))\n",
    "    model.add(BatchNormalization())\n",
    "    model.add(Dropout(0.3))\n",
    "\n",
    "    model.add(Dense(128, kernel_initializer='he_uniform', activation='relu'))\n",
    "    model.add(BatchNormalization())\n",
    "    model.add(Dropout(0.3))\n",
    "\n",
    "    model.add(Dense(64, kernel_initializer='he_uniform', activation='relu'))\n",
    "    model.add(BatchNormalization())\n",
    "    model.add(Dropout(0.3))\n",
    "\n",
    "    model.add(Dense(2, activation='softmax'))\n",
    "\n",
    "    adam = Adam(learning_rate=0.001)\n",
    "    model.compile(loss='categorical_crossentropy', optimizer=adam, metrics=['accuracy'])\n",
    "\n",
    "    return model\n",
    "\n"
   ]
  },
  {
   "cell_type": "code",
   "execution_count": 13,
   "id": "cdd8baaf",
   "metadata": {},
   "outputs": [
    {
     "name": "stdout",
     "output_type": "stream",
     "text": [
      "WARNING:tensorflow:From C:\\Users\\roops\\anaconda3\\lib\\site-packages\\keras\\src\\backend.py:873: The name tf.get_default_graph is deprecated. Please use tf.compat.v1.get_default_graph instead.\n",
      "\n",
      "Model: \"sequential\"\n",
      "_________________________________________________________________\n",
      " Layer (type)                Output Shape              Param #   \n",
      "=================================================================\n",
      " dense (Dense)               (None, 64)                1024      \n",
      "                                                                 \n",
      " batch_normalization (Batch  (None, 64)                256       \n",
      " Normalization)                                                  \n",
      "                                                                 \n",
      " dropout (Dropout)           (None, 64)                0         \n",
      "                                                                 \n",
      " dense_1 (Dense)             (None, 128)               8320      \n",
      "                                                                 \n",
      " batch_normalization_1 (Bat  (None, 128)               512       \n",
      " chNormalization)                                                \n",
      "                                                                 \n",
      " dropout_1 (Dropout)         (None, 128)               0         \n",
      "                                                                 \n",
      " dense_2 (Dense)             (None, 64)                8256      \n",
      "                                                                 \n",
      " batch_normalization_2 (Bat  (None, 64)                256       \n",
      " chNormalization)                                                \n",
      "                                                                 \n",
      " dropout_2 (Dropout)         (None, 64)                0         \n",
      "                                                                 \n",
      " dense_3 (Dense)             (None, 2)                 130       \n",
      "                                                                 \n",
      "=================================================================\n",
      "Total params: 18754 (73.26 KB)\n",
      "Trainable params: 18242 (71.26 KB)\n",
      "Non-trainable params: 512 (2.00 KB)\n",
      "_________________________________________________________________\n",
      "None\n"
     ]
    }
   ],
   "source": [
    "model = create_advanced_model()\n",
    "\n",
    "print(model.summary())\n"
   ]
  },
  {
   "cell_type": "code",
   "execution_count": 14,
   "id": "c264f66a",
   "metadata": {},
   "outputs": [
    {
     "name": "stdout",
     "output_type": "stream",
     "text": [
      "Epoch 1/30\n",
      "WARNING:tensorflow:From C:\\Users\\roops\\anaconda3\\lib\\site-packages\\keras\\src\\utils\\tf_utils.py:492: The name tf.ragged.RaggedTensorValue is deprecated. Please use tf.compat.v1.ragged.RaggedTensorValue instead.\n",
      "\n",
      "WARNING:tensorflow:From C:\\Users\\roops\\anaconda3\\lib\\site-packages\\keras\\src\\engine\\base_layer_utils.py:384: The name tf.executing_eagerly_outside_functions is deprecated. Please use tf.compat.v1.executing_eagerly_outside_functions instead.\n",
      "\n",
      "293/293 [==============================] - 5s 5ms/step - loss: 0.6648 - accuracy: 0.7027\n",
      "Epoch 2/30\n",
      "293/293 [==============================] - 1s 5ms/step - loss: 0.4865 - accuracy: 0.8072\n",
      "Epoch 3/30\n",
      "293/293 [==============================] - 1s 4ms/step - loss: 0.4630 - accuracy: 0.8223\n",
      "Epoch 4/30\n",
      "293/293 [==============================] - 1s 4ms/step - loss: 0.4429 - accuracy: 0.8257\n",
      "Epoch 5/30\n",
      "293/293 [==============================] - 1s 4ms/step - loss: 0.4322 - accuracy: 0.8394\n",
      "Epoch 6/30\n",
      "293/293 [==============================] - 1s 4ms/step - loss: 0.4282 - accuracy: 0.8411\n",
      "Epoch 7/30\n",
      "293/293 [==============================] - 1s 5ms/step - loss: 0.4144 - accuracy: 0.8404\n",
      "Epoch 8/30\n",
      "293/293 [==============================] - 2s 5ms/step - loss: 0.4133 - accuracy: 0.8414\n",
      "Epoch 9/30\n",
      "293/293 [==============================] - 1s 5ms/step - loss: 0.4158 - accuracy: 0.8424\n",
      "Epoch 10/30\n",
      "293/293 [==============================] - 1s 5ms/step - loss: 0.4117 - accuracy: 0.8397\n",
      "Epoch 11/30\n",
      "293/293 [==============================] - 1s 5ms/step - loss: 0.4109 - accuracy: 0.8431\n",
      "Epoch 12/30\n",
      "293/293 [==============================] - 1s 5ms/step - loss: 0.4078 - accuracy: 0.8414\n",
      "Epoch 13/30\n",
      "293/293 [==============================] - 1s 5ms/step - loss: 0.4034 - accuracy: 0.8404\n",
      "Epoch 14/30\n",
      "293/293 [==============================] - 2s 5ms/step - loss: 0.4057 - accuracy: 0.8435\n",
      "Epoch 15/30\n",
      "293/293 [==============================] - 2s 6ms/step - loss: 0.4014 - accuracy: 0.8448\n",
      "Epoch 16/30\n",
      "293/293 [==============================] - 2s 7ms/step - loss: 0.4075 - accuracy: 0.8448\n",
      "Epoch 17/30\n",
      "293/293 [==============================] - 2s 6ms/step - loss: 0.3990 - accuracy: 0.8424\n",
      "Epoch 18/30\n",
      "293/293 [==============================] - 2s 6ms/step - loss: 0.4067 - accuracy: 0.8404\n",
      "Epoch 19/30\n",
      "293/293 [==============================] - 2s 6ms/step - loss: 0.4030 - accuracy: 0.8445\n",
      "Epoch 20/30\n",
      "293/293 [==============================] - 2s 6ms/step - loss: 0.4054 - accuracy: 0.8445\n",
      "Epoch 21/30\n",
      "293/293 [==============================] - 2s 6ms/step - loss: 0.4004 - accuracy: 0.8442\n",
      "Epoch 22/30\n",
      "293/293 [==============================] - 2s 6ms/step - loss: 0.4017 - accuracy: 0.8438\n",
      "Epoch 23/30\n",
      "293/293 [==============================] - 2s 6ms/step - loss: 0.4008 - accuracy: 0.8469\n",
      "Epoch 24/30\n",
      "293/293 [==============================] - 2s 6ms/step - loss: 0.4010 - accuracy: 0.8424\n",
      "Epoch 25/30\n",
      "293/293 [==============================] - 2s 6ms/step - loss: 0.3980 - accuracy: 0.8452\n",
      "Epoch 26/30\n",
      "293/293 [==============================] - 2s 6ms/step - loss: 0.3940 - accuracy: 0.8438\n",
      "Epoch 27/30\n",
      "293/293 [==============================] - 2s 7ms/step - loss: 0.3962 - accuracy: 0.8448\n",
      "Epoch 28/30\n",
      "293/293 [==============================] - 2s 6ms/step - loss: 0.3954 - accuracy: 0.8452\n",
      "Epoch 29/30\n",
      "293/293 [==============================] - 2s 6ms/step - loss: 0.4002 - accuracy: 0.8428\n",
      "Epoch 30/30\n",
      "293/293 [==============================] - 2s 6ms/step - loss: 0.4018 - accuracy: 0.8414\n"
     ]
    },
    {
     "data": {
      "text/plain": [
       "<keras.src.callbacks.History at 0x238c899fd90>"
      ]
     },
     "execution_count": 14,
     "metadata": {},
     "output_type": "execute_result"
    }
   ],
   "source": [
    "model.fit(X_train, Y_train, epochs=30, batch_size=10, verbose = 1)"
   ]
  },
  {
   "cell_type": "markdown",
   "id": "8c3a9387",
   "metadata": {},
   "source": [
    "7. Binary Classification Problem"
   ]
  },
  {
   "cell_type": "code",
   "execution_count": 15,
   "id": "f436449c",
   "metadata": {},
   "outputs": [
    {
     "name": "stdout",
     "output_type": "stream",
     "text": [
      "[0 0 0 ... 0 1 0]\n"
     ]
    }
   ],
   "source": [
    "Y_train_binary = y_train.copy()\n",
    "Y_test_binary = y_test.copy()\n",
    "\n",
    "Y_train_binary[Y_train_binary > 0] = 1\n",
    "Y_test_binary[Y_test_binary > 0] = 1\n",
    "\n",
    "print (Y_train_binary)"
   ]
  },
  {
   "cell_type": "code",
   "execution_count": 16,
   "id": "5810bae7",
   "metadata": {},
   "outputs": [
    {
     "name": "stdout",
     "output_type": "stream",
     "text": [
      "Model: \"sequential_1\"\n",
      "_________________________________________________________________\n",
      " Layer (type)                Output Shape              Param #   \n",
      "=================================================================\n",
      " dense_4 (Dense)             (None, 64)                1024      \n",
      "                                                                 \n",
      " batch_normalization_3 (Bat  (None, 64)                256       \n",
      " chNormalization)                                                \n",
      "                                                                 \n",
      " dropout_3 (Dropout)         (None, 64)                0         \n",
      "                                                                 \n",
      " dense_5 (Dense)             (None, 128)               8320      \n",
      "                                                                 \n",
      " batch_normalization_4 (Bat  (None, 128)               512       \n",
      " chNormalization)                                                \n",
      "                                                                 \n",
      " dropout_4 (Dropout)         (None, 128)               0         \n",
      "                                                                 \n",
      " dense_6 (Dense)             (None, 64)                8256      \n",
      "                                                                 \n",
      " batch_normalization_5 (Bat  (None, 64)                256       \n",
      " chNormalization)                                                \n",
      "                                                                 \n",
      " dropout_5 (Dropout)         (None, 64)                0         \n",
      "                                                                 \n",
      " dense_7 (Dense)             (None, 32)                2080      \n",
      "                                                                 \n",
      " batch_normalization_6 (Bat  (None, 32)                128       \n",
      " chNormalization)                                                \n",
      "                                                                 \n",
      " dropout_6 (Dropout)         (None, 32)                0         \n",
      "                                                                 \n",
      " dense_8 (Dense)             (None, 1)                 33        \n",
      "                                                                 \n",
      "=================================================================\n",
      "Total params: 20865 (81.50 KB)\n",
      "Trainable params: 20289 (79.25 KB)\n",
      "Non-trainable params: 576 (2.25 KB)\n",
      "_________________________________________________________________\n",
      "None\n"
     ]
    }
   ],
   "source": [
    "from tensorflow.keras.models import Sequential\n",
    "from tensorflow.keras.layers import Dense, Dropout, BatchNormalization\n",
    "from tensorflow.keras.optimizers import Adam\n",
    "\n",
    "def create_complex_binary_model():\n",
    " \n",
    "    model = Sequential()\n",
    "    \n",
    "    model.add(Dense(64, input_dim=15, kernel_initializer='he_uniform', activation='relu'))\n",
    "    model.add(BatchNormalization())  # Normalize the activations of the previous layer at each batch\n",
    "    model.add(Dropout(0.3))  # Regularization by randomly setting a fraction of input units to 0 at each update\n",
    "\n",
    "   \n",
    "    model.add(Dense(128, kernel_initializer='he_uniform', activation='relu'))\n",
    "    model.add(BatchNormalization())\n",
    "    model.add(Dropout(0.3))\n",
    "\n",
    "    \n",
    "    model.add(Dense(64, kernel_initializer='he_uniform', activation='relu'))\n",
    "    model.add(BatchNormalization())\n",
    "    model.add(Dropout(0.3))\n",
    "\n",
    "    \n",
    "    model.add(Dense(32, kernel_initializer='he_uniform', activation='relu'))\n",
    "    model.add(BatchNormalization())\n",
    "    model.add(Dropout(0.3))\n",
    "\n",
    "    \n",
    "    model.add(Dense(1, activation='sigmoid'))\n",
    "\n",
    "   \n",
    "    adam = Adam(learning_rate=0.001)\n",
    "    model.compile(loss='binary_crossentropy', optimizer=adam, metrics=['accuracy'])\n",
    "    \n",
    "    return model\n",
    "\n",
    "\n",
    "complex_binary_model = create_complex_binary_model()\n",
    "\n",
    "\n",
    "print(complex_binary_model.summary())\n"
   ]
  },
  {
   "cell_type": "code",
   "execution_count": 17,
   "id": "63095bc2",
   "metadata": {},
   "outputs": [
    {
     "name": "stdout",
     "output_type": "stream",
     "text": [
      "Epoch 1/100\n",
      "293/293 [==============================] - 7s 6ms/step - loss: 0.6418 - accuracy: 0.6781\n",
      "Epoch 2/100\n",
      "293/293 [==============================] - 2s 6ms/step - loss: 0.4816 - accuracy: 0.8120\n",
      "Epoch 3/100\n",
      "293/293 [==============================] - 2s 7ms/step - loss: 0.4512 - accuracy: 0.8281\n",
      "Epoch 4/100\n",
      "293/293 [==============================] - 2s 7ms/step - loss: 0.4413 - accuracy: 0.8349\n",
      "Epoch 5/100\n",
      "293/293 [==============================] - 2s 8ms/step - loss: 0.4266 - accuracy: 0.8353\n",
      "Epoch 6/100\n",
      "293/293 [==============================] - 2s 7ms/step - loss: 0.4257 - accuracy: 0.8353\n",
      "Epoch 7/100\n",
      "293/293 [==============================] - 2s 8ms/step - loss: 0.4204 - accuracy: 0.8380\n",
      "Epoch 8/100\n",
      "293/293 [==============================] - 2s 7ms/step - loss: 0.4214 - accuracy: 0.8380\n",
      "Epoch 9/100\n",
      "293/293 [==============================] - 2s 6ms/step - loss: 0.4141 - accuracy: 0.8465\n",
      "Epoch 10/100\n",
      "293/293 [==============================] - 2s 6ms/step - loss: 0.4087 - accuracy: 0.8431\n",
      "Epoch 11/100\n",
      "293/293 [==============================] - 2s 6ms/step - loss: 0.4083 - accuracy: 0.8394\n",
      "Epoch 12/100\n",
      "293/293 [==============================] - 2s 5ms/step - loss: 0.4093 - accuracy: 0.8448\n",
      "Epoch 13/100\n",
      "293/293 [==============================] - 2s 6ms/step - loss: 0.4074 - accuracy: 0.8438\n",
      "Epoch 14/100\n",
      "293/293 [==============================] - 2s 7ms/step - loss: 0.4009 - accuracy: 0.8418\n",
      "Epoch 15/100\n",
      "293/293 [==============================] - 2s 7ms/step - loss: 0.4097 - accuracy: 0.8428\n",
      "Epoch 16/100\n",
      "293/293 [==============================] - 2s 7ms/step - loss: 0.4030 - accuracy: 0.8431\n",
      "Epoch 17/100\n",
      "293/293 [==============================] - 2s 6ms/step - loss: 0.4029 - accuracy: 0.8401\n",
      "Epoch 18/100\n",
      "293/293 [==============================] - 2s 6ms/step - loss: 0.4025 - accuracy: 0.8435\n",
      "Epoch 19/100\n",
      "293/293 [==============================] - 2s 6ms/step - loss: 0.4072 - accuracy: 0.8455\n",
      "Epoch 20/100\n",
      "293/293 [==============================] - 2s 6ms/step - loss: 0.4049 - accuracy: 0.8445\n",
      "Epoch 21/100\n",
      "293/293 [==============================] - 2s 6ms/step - loss: 0.3981 - accuracy: 0.8445\n",
      "Epoch 22/100\n",
      "293/293 [==============================] - 2s 6ms/step - loss: 0.4055 - accuracy: 0.8435\n",
      "Epoch 23/100\n",
      "293/293 [==============================] - 2s 6ms/step - loss: 0.4018 - accuracy: 0.8438\n",
      "Epoch 24/100\n",
      "293/293 [==============================] - 2s 6ms/step - loss: 0.4034 - accuracy: 0.8438\n",
      "Epoch 25/100\n",
      "293/293 [==============================] - 2s 6ms/step - loss: 0.3970 - accuracy: 0.8404\n",
      "Epoch 26/100\n",
      "293/293 [==============================] - 2s 5ms/step - loss: 0.3967 - accuracy: 0.8452\n",
      "Epoch 27/100\n",
      "293/293 [==============================] - 1s 5ms/step - loss: 0.4004 - accuracy: 0.8438\n",
      "Epoch 28/100\n",
      "293/293 [==============================] - 1s 5ms/step - loss: 0.3984 - accuracy: 0.8455\n",
      "Epoch 29/100\n",
      "293/293 [==============================] - 1s 5ms/step - loss: 0.3951 - accuracy: 0.8438\n",
      "Epoch 30/100\n",
      "293/293 [==============================] - 1s 5ms/step - loss: 0.4008 - accuracy: 0.8445\n",
      "Epoch 31/100\n",
      "293/293 [==============================] - 1s 5ms/step - loss: 0.3952 - accuracy: 0.8442\n",
      "Epoch 32/100\n",
      "293/293 [==============================] - 1s 4ms/step - loss: 0.4008 - accuracy: 0.8452\n",
      "Epoch 33/100\n",
      "293/293 [==============================] - 1s 4ms/step - loss: 0.3989 - accuracy: 0.8445\n",
      "Epoch 34/100\n",
      "293/293 [==============================] - 1s 5ms/step - loss: 0.3989 - accuracy: 0.8438\n",
      "Epoch 35/100\n",
      "293/293 [==============================] - 1s 4ms/step - loss: 0.3958 - accuracy: 0.8445\n",
      "Epoch 36/100\n",
      "293/293 [==============================] - 1s 5ms/step - loss: 0.3920 - accuracy: 0.8442\n",
      "Epoch 37/100\n",
      "293/293 [==============================] - 1s 4ms/step - loss: 0.3995 - accuracy: 0.8428\n",
      "Epoch 38/100\n",
      "293/293 [==============================] - 1s 5ms/step - loss: 0.3965 - accuracy: 0.8445\n",
      "Epoch 39/100\n",
      "293/293 [==============================] - 1s 5ms/step - loss: 0.3890 - accuracy: 0.8452\n",
      "Epoch 40/100\n",
      "293/293 [==============================] - 1s 5ms/step - loss: 0.4009 - accuracy: 0.8452\n",
      "Epoch 41/100\n",
      "293/293 [==============================] - 2s 6ms/step - loss: 0.3962 - accuracy: 0.8445\n",
      "Epoch 42/100\n",
      "293/293 [==============================] - 2s 5ms/step - loss: 0.3983 - accuracy: 0.8465\n",
      "Epoch 43/100\n",
      "293/293 [==============================] - 2s 6ms/step - loss: 0.3898 - accuracy: 0.8452\n",
      "Epoch 44/100\n",
      "293/293 [==============================] - 2s 6ms/step - loss: 0.3935 - accuracy: 0.8442\n",
      "Epoch 45/100\n",
      "293/293 [==============================] - 2s 8ms/step - loss: 0.3999 - accuracy: 0.8452\n",
      "Epoch 46/100\n",
      "293/293 [==============================] - 2s 7ms/step - loss: 0.3933 - accuracy: 0.8448\n",
      "Epoch 47/100\n",
      "293/293 [==============================] - 2s 6ms/step - loss: 0.3929 - accuracy: 0.8459\n",
      "Epoch 48/100\n",
      "293/293 [==============================] - 2s 6ms/step - loss: 0.3968 - accuracy: 0.8442\n",
      "Epoch 49/100\n",
      "293/293 [==============================] - 2s 6ms/step - loss: 0.4039 - accuracy: 0.8445\n",
      "Epoch 50/100\n",
      "293/293 [==============================] - 2s 6ms/step - loss: 0.3919 - accuracy: 0.8452\n",
      "Epoch 51/100\n",
      "293/293 [==============================] - 2s 6ms/step - loss: 0.3952 - accuracy: 0.8445\n",
      "Epoch 52/100\n",
      "293/293 [==============================] - 2s 6ms/step - loss: 0.4005 - accuracy: 0.8445\n",
      "Epoch 53/100\n",
      "293/293 [==============================] - 2s 6ms/step - loss: 0.3986 - accuracy: 0.8445\n",
      "Epoch 54/100\n",
      "293/293 [==============================] - 2s 6ms/step - loss: 0.3949 - accuracy: 0.8445\n",
      "Epoch 55/100\n",
      "293/293 [==============================] - 2s 6ms/step - loss: 0.3962 - accuracy: 0.8438\n",
      "Epoch 56/100\n",
      "293/293 [==============================] - 2s 6ms/step - loss: 0.3964 - accuracy: 0.8442\n",
      "Epoch 57/100\n",
      "293/293 [==============================] - 2s 6ms/step - loss: 0.3953 - accuracy: 0.8442\n",
      "Epoch 58/100\n",
      "293/293 [==============================] - 2s 6ms/step - loss: 0.3896 - accuracy: 0.8459\n",
      "Epoch 59/100\n",
      "293/293 [==============================] - 2s 6ms/step - loss: 0.3908 - accuracy: 0.8445\n",
      "Epoch 60/100\n",
      "293/293 [==============================] - 2s 6ms/step - loss: 0.3958 - accuracy: 0.8445\n",
      "Epoch 61/100\n",
      "293/293 [==============================] - 2s 6ms/step - loss: 0.3917 - accuracy: 0.8442\n",
      "Epoch 62/100\n",
      "293/293 [==============================] - 2s 6ms/step - loss: 0.3988 - accuracy: 0.8445\n",
      "Epoch 63/100\n",
      "293/293 [==============================] - 2s 6ms/step - loss: 0.3971 - accuracy: 0.8452\n",
      "Epoch 64/100\n",
      "293/293 [==============================] - 2s 6ms/step - loss: 0.3937 - accuracy: 0.8459\n",
      "Epoch 65/100\n",
      "293/293 [==============================] - 2s 6ms/step - loss: 0.3927 - accuracy: 0.8448\n",
      "Epoch 66/100\n",
      "293/293 [==============================] - 2s 6ms/step - loss: 0.3953 - accuracy: 0.8442\n",
      "Epoch 67/100\n",
      "293/293 [==============================] - 2s 6ms/step - loss: 0.3961 - accuracy: 0.8445\n",
      "Epoch 68/100\n",
      "293/293 [==============================] - 2s 6ms/step - loss: 0.3918 - accuracy: 0.8448\n",
      "Epoch 69/100\n",
      "293/293 [==============================] - 2s 6ms/step - loss: 0.3941 - accuracy: 0.8445\n",
      "Epoch 70/100\n",
      "293/293 [==============================] - 2s 6ms/step - loss: 0.3932 - accuracy: 0.8442\n",
      "Epoch 71/100\n",
      "293/293 [==============================] - 2s 6ms/step - loss: 0.3960 - accuracy: 0.8459\n",
      "Epoch 72/100\n",
      "293/293 [==============================] - 2s 6ms/step - loss: 0.3910 - accuracy: 0.8435\n",
      "Epoch 73/100\n",
      "293/293 [==============================] - 2s 6ms/step - loss: 0.3921 - accuracy: 0.8448\n",
      "Epoch 74/100\n",
      "293/293 [==============================] - 2s 6ms/step - loss: 0.3974 - accuracy: 0.8438\n",
      "Epoch 75/100\n",
      "293/293 [==============================] - 2s 6ms/step - loss: 0.3916 - accuracy: 0.8448\n",
      "Epoch 76/100\n",
      "293/293 [==============================] - 2s 6ms/step - loss: 0.3932 - accuracy: 0.8455\n",
      "Epoch 77/100\n",
      "293/293 [==============================] - 2s 6ms/step - loss: 0.3965 - accuracy: 0.8452\n",
      "Epoch 78/100\n",
      "293/293 [==============================] - 2s 6ms/step - loss: 0.3945 - accuracy: 0.8448\n",
      "Epoch 79/100\n",
      "293/293 [==============================] - 2s 6ms/step - loss: 0.3939 - accuracy: 0.8435\n",
      "Epoch 80/100\n",
      "293/293 [==============================] - 2s 6ms/step - loss: 0.3938 - accuracy: 0.8442\n",
      "Epoch 81/100\n",
      "293/293 [==============================] - 2s 6ms/step - loss: 0.3891 - accuracy: 0.8462\n",
      "Epoch 82/100\n",
      "293/293 [==============================] - 2s 5ms/step - loss: 0.3923 - accuracy: 0.8445\n",
      "Epoch 83/100\n",
      "293/293 [==============================] - 2s 6ms/step - loss: 0.3943 - accuracy: 0.8438\n",
      "Epoch 84/100\n",
      "293/293 [==============================] - 2s 6ms/step - loss: 0.3899 - accuracy: 0.8445\n",
      "Epoch 85/100\n",
      "293/293 [==============================] - 2s 6ms/step - loss: 0.3912 - accuracy: 0.8428\n",
      "Epoch 86/100\n",
      "293/293 [==============================] - 2s 5ms/step - loss: 0.3936 - accuracy: 0.8448\n",
      "Epoch 87/100\n",
      "293/293 [==============================] - 2s 5ms/step - loss: 0.3902 - accuracy: 0.8448\n",
      "Epoch 88/100\n",
      "293/293 [==============================] - 2s 5ms/step - loss: 0.3906 - accuracy: 0.8442\n",
      "Epoch 89/100\n",
      "293/293 [==============================] - 2s 5ms/step - loss: 0.3952 - accuracy: 0.8438\n",
      "Epoch 90/100\n",
      "293/293 [==============================] - 2s 5ms/step - loss: 0.3918 - accuracy: 0.8435\n",
      "Epoch 91/100\n",
      "293/293 [==============================] - 1s 5ms/step - loss: 0.3923 - accuracy: 0.8459\n",
      "Epoch 92/100\n",
      "293/293 [==============================] - 1s 5ms/step - loss: 0.3901 - accuracy: 0.8459\n",
      "Epoch 93/100\n",
      "293/293 [==============================] - 1s 5ms/step - loss: 0.3910 - accuracy: 0.8445\n",
      "Epoch 94/100\n",
      "293/293 [==============================] - 1s 5ms/step - loss: 0.3864 - accuracy: 0.8448\n",
      "Epoch 95/100\n",
      "293/293 [==============================] - 1s 5ms/step - loss: 0.3941 - accuracy: 0.8438\n",
      "Epoch 96/100\n",
      "293/293 [==============================] - 2s 5ms/step - loss: 0.3925 - accuracy: 0.8431\n",
      "Epoch 97/100\n",
      "293/293 [==============================] - 1s 5ms/step - loss: 0.3947 - accuracy: 0.8448\n",
      "Epoch 98/100\n",
      "293/293 [==============================] - 1s 5ms/step - loss: 0.3908 - accuracy: 0.8445\n",
      "Epoch 99/100\n",
      "293/293 [==============================] - 2s 5ms/step - loss: 0.3900 - accuracy: 0.8421\n",
      "Epoch 100/100\n",
      "293/293 [==============================] - 2s 5ms/step - loss: 0.3853 - accuracy: 0.8459\n"
     ]
    },
    {
     "data": {
      "text/plain": [
       "<keras.src.callbacks.History at 0x238c7965030>"
      ]
     },
     "execution_count": 17,
     "metadata": {},
     "output_type": "execute_result"
    }
   ],
   "source": [
    "complex_binary_model.fit(X_train, Y_train_binary, epochs=100, batch_size=10, verbose = 1)"
   ]
  },
  {
   "cell_type": "markdown",
   "id": "26042b0d",
   "metadata": {},
   "source": [
    "8. Results "
   ]
  },
  {
   "cell_type": "code",
   "execution_count": 18,
   "id": "83ad4cb5",
   "metadata": {},
   "outputs": [
    {
     "name": "stdout",
     "output_type": "stream",
     "text": [
      "23/23 [==============================] - 0s 3ms/step\n",
      "Results for Categorical Model\n",
      "0.8483606557377049\n",
      "              precision    recall  f1-score   support\n",
      "\n",
      "           0       0.87      0.97      0.92       630\n",
      "           1       0.36      0.12      0.18       102\n",
      "\n",
      "    accuracy                           0.85       732\n",
      "   macro avg       0.62      0.54      0.55       732\n",
      "weighted avg       0.80      0.85      0.81       732\n",
      "\n"
     ]
    }
   ],
   "source": [
    "from sklearn.metrics import classification_report, accuracy_score\n",
    "\n",
    "categorical_pred = np.argmax(model.predict(X_test), axis=1)\n",
    "\n",
    "print('Results for Categorical Model')\n",
    "print(accuracy_score(y_test, categorical_pred))\n",
    "print(classification_report(y_test, categorical_pred))"
   ]
  },
  {
   "cell_type": "code",
   "execution_count": 19,
   "id": "c463aef8",
   "metadata": {},
   "outputs": [
    {
     "name": "stdout",
     "output_type": "stream",
     "text": [
      "23/23 [==============================] - 0s 3ms/step\n",
      "Results for Binary Model\n",
      "0.8620218579234973\n",
      "              precision    recall  f1-score   support\n",
      "\n",
      "           0       0.87      0.99      0.92       630\n",
      "           1       0.53      0.09      0.15       102\n",
      "\n",
      "    accuracy                           0.86       732\n",
      "   macro avg       0.70      0.54      0.54       732\n",
      "weighted avg       0.82      0.86      0.82       732\n",
      "\n"
     ]
    }
   ],
   "source": [
    "binary_pred = np.round(complex_binary_model.predict(X_test)).astype(int)\n",
    "\n",
    "print('Results for Binary Model')\n",
    "print(accuracy_score(Y_test_binary, binary_pred))\n",
    "print(classification_report(Y_test_binary, binary_pred))"
   ]
  },
  {
   "cell_type": "code",
   "execution_count": null,
   "id": "70417384",
   "metadata": {},
   "outputs": [],
   "source": []
  }
 ],
 "metadata": {
  "kernelspec": {
   "display_name": "Python 3 (ipykernel)",
   "language": "python",
   "name": "python3"
  },
  "language_info": {
   "codemirror_mode": {
    "name": "ipython",
    "version": 3
   },
   "file_extension": ".py",
   "mimetype": "text/x-python",
   "name": "python",
   "nbconvert_exporter": "python",
   "pygments_lexer": "ipython3",
   "version": "3.10.9"
  }
 },
 "nbformat": 4,
 "nbformat_minor": 5
}
